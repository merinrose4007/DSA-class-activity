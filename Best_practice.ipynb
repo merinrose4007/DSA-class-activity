{
  "nbformat": 4,
  "nbformat_minor": 0,
  "metadata": {
    "colab": {
      "provenance": [],
      "authorship_tag": "ABX9TyOsOZgoC+4GfVexfNOadoGa",
      "include_colab_link": true
    },
    "kernelspec": {
      "name": "python3",
      "display_name": "Python 3"
    },
    "language_info": {
      "name": "python"
    }
  },
  "cells": [
    {
      "cell_type": "markdown",
      "metadata": {
        "id": "view-in-github",
        "colab_type": "text"
      },
      "source": [
        "<a href=\"https://colab.research.google.com/github/merinrose4007/DSA-class-activity/blob/main/Best_practice.ipynb\" target=\"_parent\"><img src=\"https://colab.research.google.com/assets/colab-badge.svg\" alt=\"Open In Colab\"/></a>"
      ]
    },
    {
      "cell_type": "markdown",
      "source": [
        "#Indentation\n",
        "Use 4 spaces per indentation level.\n",
        "\n",
        "Two main styles for breaking lines\n",
        "##Vertical alignment\n",
        "You break the line but keep the first argument on the same line as the opening and all other arguments line up under it."
      ],
      "metadata": {
        "id": "NXw-71PGV5t1"
      }
    },
    {
      "cell_type": "code",
      "source": [
        "l=[\"apple\",\n",
        "\"bananna\",\n",
        "\"orange\",\n",
        "\"strawberry\",\n",
        "\"grape\"]"
      ],
      "metadata": {
        "id": "YlyyzlPQT9f6"
      },
      "execution_count": null,
      "outputs": []
    },
    {
      "cell_type": "code",
      "execution_count": null,
      "metadata": {
        "id": "30Wz73YnNVKR"
      },
      "outputs": [],
      "source": [
        "l=[\"apple\",\n",
        "   \"bananna\",\n",
        "   \"orange\",\n",
        "   \"strawberry\",\n",
        "   \"grape\"]"
      ]
    },
    {
      "cell_type": "markdown",
      "source": [
        "## Hanging indent\n",
        "You move all arguments to new lines and indent them at least 4 spaces more than the normal block level."
      ],
      "metadata": {
        "id": "U1ueF6ycWkD3"
      }
    },
    {
      "cell_type": "code",
      "source": [
        "def long_function_name(\n",
        "var_one, var_two, var_three,\n",
        "        var_four):\n"
      ],
      "metadata": {
        "id": "yDmF2uJkUc8H"
      },
      "execution_count": null,
      "outputs": []
    },
    {
      "cell_type": "code",
      "source": [
        "def long_function_name(\n",
        "        var_one, var_two, var_three,\n",
        "        var_four):"
      ],
      "metadata": {
        "id": "qz5j1JyjUdTv"
      },
      "execution_count": null,
      "outputs": []
    },
    {
      "cell_type": "markdown",
      "source": [
        "Function"
      ],
      "metadata": {
        "id": "SWNn36v7aRCh"
      }
    },
    {
      "cell_type": "code",
      "source": [
        "def func(arg_one, arg_two,\n",
        "         arg_three):\n",
        "         pass"
      ],
      "metadata": {
        "id": "YdToCfDeaT08"
      },
      "execution_count": null,
      "outputs": []
    },
    {
      "cell_type": "code",
      "source": [
        "def func(arg_one, arg_two,\n",
        "         arg_three):\n",
        "    pass"
      ],
      "metadata": {
        "id": "hHNtTA7xaQzp"
      },
      "execution_count": null,
      "outputs": []
    },
    {
      "cell_type": "markdown",
      "source": [
        "If condition"
      ],
      "metadata": {
        "id": "eXRo3PNcYm1Z"
      }
    },
    {
      "cell_type": "code",
      "source": [
        "if (very_long_condition_one and\n",
        "    very_long_condition_two and\n",
        "    very_long_condition_three):\n",
        "    do_something()"
      ],
      "metadata": {
        "id": "DHYPwe03Vecj"
      },
      "execution_count": null,
      "outputs": []
    },
    {
      "cell_type": "code",
      "source": [
        "if (very_long_condition_one and\n",
        "        very_long_condition_two and\n",
        "        very_long_condition_three):\n",
        "    do_something()"
      ],
      "metadata": {
        "id": "ZswxVXpsYpDR"
      },
      "execution_count": null,
      "outputs": []
    },
    {
      "cell_type": "markdown",
      "source": [
        "Where to put the closing ], }, or )"
      ],
      "metadata": {
        "id": "rBmSMuPQZLv6"
      }
    },
    {
      "cell_type": "code",
      "source": [
        "my_list = [\n",
        "    1, 2, 3,\n",
        "    4, 5, 6,\n",
        "    ]\n",
        "result = some_function_that_takes_arguments(\n",
        "    'a', 'b', 'c',\n",
        "    'd', 'e', 'f',\n",
        "    )"
      ],
      "metadata": {
        "id": "XtRzFBSBZQAV"
      },
      "execution_count": null,
      "outputs": []
    },
    {
      "cell_type": "code",
      "source": [
        "my_list = [\n",
        "    1, 2, 3,\n",
        "    4, 5, 6,\n",
        "]\n",
        "result = some_function_that_takes_arguments(\n",
        "    'a', 'b', 'c',\n",
        "    'd', 'e', 'f',\n",
        ")"
      ],
      "metadata": {
        "id": "aZNAn4esZVqt"
      },
      "execution_count": null,
      "outputs": []
    },
    {
      "cell_type": "markdown",
      "source": [
        "#Comments\n",
        "\n",
        "\n",
        "*   Comments should not contradict the code\n",
        "*   Always update comments when code changes\n",
        "*   Comments should be complete sentences\n",
        "*   Capitalization rules\n",
        "\n",
        "##Block Comment\n",
        "\n",
        "Block comments are multi-line comments that explain a section of code in detail.\n",
        "They describe the overall logic or purpose of a block of code, not just a single line.\n",
        "Each line of a block comment starts with a # and a single space\n",
        "\n",
        "##Inline comments\n",
        "An inline comment is a comment written on the same line as a piece of code, usually to explain what that specific line does.\n",
        "*   put them only when they really help clarify something non-obvious.\n",
        "*   List item\n",
        "\n",
        "\n",
        "\n",
        "\n",
        "\n",
        "\n",
        "\n",
        "\n",
        "\n",
        "\n",
        "\n",
        "\n",
        "\n"
      ],
      "metadata": {
        "id": "0hvj_e4VcIAb"
      }
    },
    {
      "cell_type": "code",
      "source": [
        "x = x * 2   # Multiply x by 2"
      ],
      "metadata": {
        "id": "Eqf6pt-seHf5"
      },
      "execution_count": null,
      "outputs": []
    }
  ]
}