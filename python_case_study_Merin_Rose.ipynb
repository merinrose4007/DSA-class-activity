{
  "nbformat": 4,
  "nbformat_minor": 0,
  "metadata": {
    "colab": {
      "provenance": [],
      "authorship_tag": "ABX9TyObAxZujCJNxB7ww9yGGO+o",
      "include_colab_link": true
    },
    "kernelspec": {
      "name": "python3",
      "display_name": "Python 3"
    },
    "language_info": {
      "name": "python"
    }
  },
  "cells": [
    {
      "cell_type": "markdown",
      "metadata": {
        "id": "view-in-github",
        "colab_type": "text"
      },
      "source": [
        "<a href=\"https://colab.research.google.com/github/merinrose4007/DSA-class-activity/blob/main/python_case_study_Merin_Rose.ipynb\" target=\"_parent\"><img src=\"https://colab.research.google.com/assets/colab-badge.svg\" alt=\"Open In Colab\"/></a>"
      ]
    },
    {
      "cell_type": "code",
      "execution_count": 23,
      "metadata": {
        "id": "z9KOeTBllhPW"
      },
      "outputs": [],
      "source": [
        "# Answer the following questions using only builtin Python datatypes and functions. Do not use Numpy or Scipy (i.e. No library imports allowed)\n",
        "# Q1. Write a function that return the range (maximum and minimun) of a given list of numbers\n",
        "def max_min(l):\n",
        "  l.sort()\n",
        "  return l[0],l[len(l)-1]"
      ]
    },
    {
      "cell_type": "code",
      "source": [
        "max_min([2, 3, 5, 7, 8, 8, 10, 10])"
      ],
      "metadata": {
        "colab": {
          "base_uri": "https://localhost:8080/"
        },
        "id": "hsdnpea5m8zY",
        "outputId": "00c0b237-bf93-42a5-e610-015c6a08eb77"
      },
      "execution_count": 129,
      "outputs": [
        {
          "output_type": "execute_result",
          "data": {
            "text/plain": [
              "(2, 10)"
            ]
          },
          "metadata": {},
          "execution_count": 129
        }
      ]
    },
    {
      "cell_type": "code",
      "source": [
        "## Q2. Write function that returns mean value of a list of numbers\n",
        "def mean(l):\n",
        "  a = 0\n",
        "  for i in range(len(l)):\n",
        "    a = a + l[i]\n",
        "\n",
        "  return a/len(l)"
      ],
      "metadata": {
        "id": "1GE6ufJgoCN3"
      },
      "execution_count": 19,
      "outputs": []
    },
    {
      "cell_type": "code",
      "source": [
        "mean([2, 3, 5, 7, 8, 8, 10, 10])"
      ],
      "metadata": {
        "colab": {
          "base_uri": "https://localhost:8080/"
        },
        "id": "z8S_0cgXpPzv",
        "outputId": "d0ac7439-c3f2-48ee-9fc0-2857f36b93c2"
      },
      "execution_count": 130,
      "outputs": [
        {
          "output_type": "execute_result",
          "data": {
            "text/plain": [
              "6.625"
            ]
          },
          "metadata": {},
          "execution_count": 130
        }
      ]
    },
    {
      "cell_type": "code",
      "source": [
        "# Q3. Write a function that returns the median value of a list of numbers\n",
        "def median(l):\n",
        "\n",
        "  l.sort()\n",
        "  if len(l) % 2 == 0:\n",
        "    med=(l[(len(l) // 2) - 1] + l[(len(l) // 2)])/2\n",
        "  else:\n",
        "    med = l[len(l) // 2]\n",
        "\n",
        "  return med"
      ],
      "metadata": {
        "id": "0a4dcC9ipYfw"
      },
      "execution_count": 21,
      "outputs": []
    },
    {
      "cell_type": "code",
      "source": [
        "median([2, 3, 5, 7, 8, 8, 10, 10])"
      ],
      "metadata": {
        "colab": {
          "base_uri": "https://localhost:8080/"
        },
        "id": "UiE47BZdp29T",
        "outputId": "f7f6c4ce-4f92-4205-9a86-c692c7bdc406"
      },
      "execution_count": 131,
      "outputs": [
        {
          "output_type": "execute_result",
          "data": {
            "text/plain": [
              "7.5"
            ]
          },
          "metadata": {},
          "execution_count": 131
        }
      ]
    },
    {
      "cell_type": "code",
      "source": [
        "## Q4. Write a function to return the mod of a list of numbers, if no mod exists, it should return None. If more than one mod exist, return the mod values as list\n",
        "def mode(l):\n",
        "\n",
        "  count = {}\n",
        "  s = set()\n",
        "\n",
        "  for i in l:\n",
        "    if i in count:\n",
        "      count[i] += 1\n",
        "    else:\n",
        "      count[i] = 1\n",
        "  mode = None\n",
        "  max_count = max(count.values())\n",
        "\n",
        "  if max_count == 1:\n",
        "    return None\n",
        "  else:\n",
        "    for i,j in count.items():\n",
        "      if j == max_count:\n",
        "        s.add(i)\n",
        "\n",
        "    return list(s)\n"
      ],
      "metadata": {
        "id": "MpDdcWWmp9Ng"
      },
      "execution_count": 237,
      "outputs": []
    },
    {
      "cell_type": "code",
      "source": [
        "mode([2, 3, 5, 7, 8, 8, 10, 10])"
      ],
      "metadata": {
        "colab": {
          "base_uri": "https://localhost:8080/"
        },
        "id": "Y1nJFJJqrGm0",
        "outputId": "f75e7b9c-e7ff-4559-c86b-302fc29c0ba2"
      },
      "execution_count": 239,
      "outputs": [
        {
          "output_type": "execute_result",
          "data": {
            "text/plain": [
              "[8, 10]"
            ]
          },
          "metadata": {},
          "execution_count": 239
        }
      ]
    },
    {
      "cell_type": "code",
      "source": [
        "## Q5. Write function to compute a given percentile value (e.g. 90th percentile) of a list of numbers\n",
        "def percentile(l):\n",
        "\n",
        "  l.sort()\n",
        "  N = int(input(\"Enter the percentile:\"))\n",
        "  position = len(l) * N / 100\n",
        "\n",
        "  return l[int(position) - 1]"
      ],
      "metadata": {
        "id": "cnegt_UNwn77"
      },
      "execution_count": 133,
      "outputs": []
    },
    {
      "cell_type": "code",
      "source": [
        "percentile(l=[85, 60, 72, 55, 105, 315, 380, 290, 190, 130, 95, 70])"
      ],
      "metadata": {
        "colab": {
          "base_uri": "https://localhost:8080/"
        },
        "id": "8sxQq8uEyQRD",
        "outputId": "da4757d8-26bc-407c-bea3-8d83938c9d88"
      },
      "execution_count": 134,
      "outputs": [
        {
          "name": "stdout",
          "output_type": "stream",
          "text": [
            "Enter the percentile:90\n"
          ]
        },
        {
          "output_type": "execute_result",
          "data": {
            "text/plain": [
              "290"
            ]
          },
          "metadata": {},
          "execution_count": 134
        }
      ]
    },
    {
      "cell_type": "code",
      "source": [
        "# Q6. Write a function that returns the lower bound of a list of numbers\n",
        "def lower_bound(l):\n",
        "\n",
        "  l.sort()\n",
        "  Q1 = l[(len(l) * 25 // 100) - 1]\n",
        "  Q3 = l[(len(l) * 75 // 100) - 1]\n",
        "  IQR = Q3 - Q1\n",
        "  lower_whisker = Q1 - IQR * 1.5\n",
        "\n",
        "  return lower_whisker\n"
      ],
      "metadata": {
        "id": "mqMLtCdGyqON"
      },
      "execution_count": 150,
      "outputs": []
    },
    {
      "cell_type": "code",
      "source": [
        "lower_bound([85, 60, 72, 55, 105, 315, 380, 290, 190, 130, 95, 70])"
      ],
      "metadata": {
        "colab": {
          "base_uri": "https://localhost:8080/"
        },
        "id": "4_InaW-TzU1k",
        "outputId": "c460eb0f-54f9-47ca-92f4-c3db6c39ea66"
      },
      "execution_count": 151,
      "outputs": [
        {
          "output_type": "execute_result",
          "data": {
            "text/plain": [
              "-110.0"
            ]
          },
          "metadata": {},
          "execution_count": 151
        }
      ]
    },
    {
      "cell_type": "code",
      "source": [
        "## Q7. Write function to return any outliers from a given list of numbers, if no outliers present it should return None\n",
        "def outlier(l):\n",
        "\n",
        "  l.sort()\n",
        "  k = []\n",
        "  Q1 = l[(len(l) * 25 // 100) - 1]\n",
        "  Q3 = l[(len(l) * 75 // 100) - 1]\n",
        "  IQR = Q3 - Q1\n",
        "  lower_whisker = Q1 - IQR * 1.5\n",
        "  upper_whisker = Q3 + IQR * 1.5\n",
        "\n",
        "  for i in l:\n",
        "    if upper_whisker < i or lower_whisker > i:\n",
        "      k.append(i)\n",
        "\n",
        "  return k"
      ],
      "metadata": {
        "id": "z-wfxa8HzYwS"
      },
      "execution_count": 235,
      "outputs": []
    },
    {
      "cell_type": "code",
      "source": [
        "outlier([85, 60, 72, 55, 105, 315, 380, 390, 290, 190, 130, 95, 70])"
      ],
      "metadata": {
        "colab": {
          "base_uri": "https://localhost:8080/"
        },
        "id": "bps-tfiAz9p5",
        "outputId": "5bff9c89-2889-4e8f-fdc2-ce7cf89dbd26"
      },
      "execution_count": 236,
      "outputs": [
        {
          "output_type": "stream",
          "name": "stdout",
          "text": [
            "[380, 390]\n"
          ]
        }
      ]
    },
    {
      "cell_type": "code",
      "source": [
        "##Q8. Write a function to return standard deviation of a list of numbers\n",
        "def standard_deviation(l):\n",
        "\n",
        "  w = 0\n",
        "  a = 0\n",
        "  mean1 = mean(l)\n",
        "\n",
        "  for i in range(len(l)):\n",
        "\n",
        "    v = (l[i]-mean1)**2\n",
        "    w = w + v\n",
        "    variance = w/len(l)\n",
        "    standard_dev = variance**(1/2)\n",
        "\n",
        "  return standard_dev"
      ],
      "metadata": {
        "id": "-ZFqnzcw0Oyg"
      },
      "execution_count": 191,
      "outputs": []
    },
    {
      "cell_type": "code",
      "source": [
        "standard_deviation([1,2,3,4,5])"
      ],
      "metadata": {
        "colab": {
          "base_uri": "https://localhost:8080/"
        },
        "id": "JwqksCQ80zfy",
        "outputId": "d5f0c5c0-c89c-4d82-b487-585ab7681085"
      },
      "execution_count": 192,
      "outputs": [
        {
          "output_type": "execute_result",
          "data": {
            "text/plain": [
              "1.4142135623730951"
            ]
          },
          "metadata": {},
          "execution_count": 192
        }
      ]
    },
    {
      "cell_type": "code",
      "source": [
        "## Q9. Write function to compute and return Z-score values of a list of numbers\n",
        "def Z_score(l):\n",
        "\n",
        "  w = 0\n",
        "  a = 0\n",
        "  p = list()\n",
        "  mean1 = mean(l)\n",
        "\n",
        "  standard_dev1 = standard_deviation(l)\n",
        "\n",
        "  for i in l:\n",
        "\n",
        "    a=(i-mean1)/standard_dev1\n",
        "    p.append(a)\n",
        "\n",
        "  return p"
      ],
      "metadata": {
        "id": "skFFcyZ11USf"
      },
      "execution_count": 195,
      "outputs": []
    },
    {
      "cell_type": "code",
      "source": [
        "Z_score([1,2,3,4,5])"
      ],
      "metadata": {
        "colab": {
          "base_uri": "https://localhost:8080/"
        },
        "id": "PBAiE_Tq2h2Z",
        "outputId": "b2a24747-8eae-47c9-9f32-d098ad7884e8"
      },
      "execution_count": 196,
      "outputs": [
        {
          "output_type": "execute_result",
          "data": {
            "text/plain": [
              "[-1.414213562373095,\n",
              " -0.7071067811865475,\n",
              " 0.0,\n",
              " 0.7071067811865475,\n",
              " 1.414213562373095]"
            ]
          },
          "metadata": {},
          "execution_count": 196
        }
      ]
    },
    {
      "cell_type": "code",
      "source": [
        "## Q10. Write a function to compute and return the Pearson correlation coefficient value of two list of numbers\n",
        "def pearson (l, k):\n",
        "\n",
        "  mean1 = mean(l)\n",
        "  mean2 = mean(k)\n",
        "  std1 = standard_deviation(l)\n",
        "  std2 = standard_deviation(k)\n",
        "  o = 0\n",
        "\n",
        "  for i in range(len(l)):\n",
        "\n",
        "    for j in range(len(k)):\n",
        "      if i == j:\n",
        "        p = (l[i] - mean1)\n",
        "        q = (k[j] - mean2)\n",
        "        o = o + p*q\n",
        "\n",
        "  cov = o/len(k)\n",
        "\n",
        "  return cov/(std1*std2)"
      ],
      "metadata": {
        "id": "E4yZEi5C3EZe"
      },
      "execution_count": 229,
      "outputs": []
    },
    {
      "cell_type": "code",
      "source": [
        "pearson([85, 60, 72, 55, 105, 315, 380, 290, 190, 130, 95, 70] , [80, 64, 71, 57, 13, 31, 38, 29, 19, 13, 95, 70])"
      ],
      "metadata": {
        "colab": {
          "base_uri": "https://localhost:8080/"
        },
        "id": "w0WVEEhz4SJ8",
        "outputId": "6be61031-f812-4e34-8b8d-04d6710318b1"
      },
      "execution_count": 230,
      "outputs": [
        {
          "output_type": "execute_result",
          "data": {
            "text/plain": [
              "-0.4937099124749681"
            ]
          },
          "metadata": {},
          "execution_count": 230
        }
      ]
    }
  ]
}