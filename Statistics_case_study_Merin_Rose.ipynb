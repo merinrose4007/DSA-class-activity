{
  "nbformat": 4,
  "nbformat_minor": 0,
  "metadata": {
    "colab": {
      "provenance": [],
      "authorship_tag": "ABX9TyNUWiLlyA6u9OVv61n4Gcj9",
      "include_colab_link": true
    },
    "kernelspec": {
      "name": "python3",
      "display_name": "Python 3"
    },
    "language_info": {
      "name": "python"
    }
  },
  "cells": [
    {
      "cell_type": "markdown",
      "metadata": {
        "id": "view-in-github",
        "colab_type": "text"
      },
      "source": [
        "<a href=\"https://colab.research.google.com/github/merinrose4007/DSA-class-activity/blob/main/Statistics_case_study_Merin_Rose.ipynb\" target=\"_parent\"><img src=\"https://colab.research.google.com/assets/colab-badge.svg\" alt=\"Open In Colab\"/></a>"
      ]
    },
    {
      "cell_type": "code",
      "execution_count": 2,
      "metadata": {
        "colab": {
          "base_uri": "https://localhost:8080/"
        },
        "id": "8RyDD7JSjWow",
        "outputId": "b2493c75-927b-4952-8fd3-de0e412d5743"
      },
      "outputs": [
        {
          "output_type": "stream",
          "name": "stdout",
          "text": [
            "Mean temperature 15.916666666666666\n",
            "Median temperature 15.5\n",
            "Mode temperature [15]\n",
            "Range: 12\n",
            "Variance 11.076388888888888\n"
          ]
        }
      ],
      "source": [
        "#1. Dataset: Monthly temperatures in a city (in °C): 12, 15, 14, 16, 18, 20, 22, 19,17, 15, 13, 10 Questions:\n",
        "#a) Calculate the mean temperature.\n",
        "#b) Calculate the median temperature.\n",
        "#c) Find the mode of the temperature data.\n",
        "#d) Range and Variance\n",
        "\n",
        "def mean(l):\n",
        "  a = 0\n",
        "  for i in range(len(l)):\n",
        "    a = a + l[i]\n",
        "\n",
        "  return a/len(l)\n",
        "def median(l):\n",
        "\n",
        "  l.sort()\n",
        "  if len(l) % 2 == 0:\n",
        "    med=(l[(len(l) // 2) - 1] + l[(len(l) // 2)])/2\n",
        "  else:\n",
        "    med = l[len(l) // 2]\n",
        "\n",
        "  return med\n",
        "def mode(l):\n",
        "\n",
        "  count = {}\n",
        "  s = set()\n",
        "\n",
        "  for i in l:\n",
        "    if i in count:\n",
        "      count[i] += 1\n",
        "    else:\n",
        "      count[i] = 1\n",
        "  mode = None\n",
        "  max_count = max(count.values())\n",
        "\n",
        "  if max_count == 1:\n",
        "    return None\n",
        "  else:\n",
        "    for i,j in count.items():\n",
        "      if j == max_count:\n",
        "        s.add(i)\n",
        "\n",
        "    return list(s)\n",
        "def variance(l):\n",
        "\n",
        "  w = 0\n",
        "  a = 0\n",
        "  mean1 = mean(l)\n",
        "\n",
        "  for i in range(len(l)):\n",
        "\n",
        "    v = (l[i]-mean1)**2\n",
        "    w = w + v\n",
        "  variance = w/len(l)\n",
        "  standard_dev = variance**(1/2)\n",
        "\n",
        "  return variance\n",
        "\n",
        "def standard_deviation(l):\n",
        "\n",
        "  w = 0\n",
        "  a = 0\n",
        "  mean1 = mean(l)\n",
        "\n",
        "  for i in range(len(l)):\n",
        "\n",
        "    v = (l[i]-mean1)**2\n",
        "    w = w + v\n",
        "  variance = w/len(l)\n",
        "  standard_dev = variance**(1/2)\n",
        "\n",
        "  return standard_dev\n",
        "\n",
        "temp=[12, 15, 14, 16, 18, 20, 22, 19, 17, 15, 13, 10]\n",
        "print(\"Mean temperature\", mean(temp))\n",
        "print(\"Median temperature\", median(temp))\n",
        "print(\"Mode temperature\", mode(temp))\n",
        "range_val = max(temp) - min(temp)\n",
        "print(\"Range:\", range_val)\n",
        "print(\"Variance\", variance(temp))"
      ]
    },
    {
      "cell_type": "code",
      "source": [
        "#2. Dataset: Heights of students (in cm): 150, 160, 165, 170, 155, 160, 162, 168\n",
        "#Questions: a) Calculate the range of the heights.\n",
        "#b) Calculate the variance of the heights.\n",
        "#c) Standard Deviation\n",
        "\n",
        "height=[150, 160, 165, 170, 155, 160, 162, 168]\n",
        "print(\"Mean height\", mean(height))\n",
        "print(\"Standard deviation\", standard_deviation(height))"
      ],
      "metadata": {
        "colab": {
          "base_uri": "https://localhost:8080/"
        },
        "id": "qCcHKMHklO1K",
        "outputId": "bcf90c58-bae1-4097-c3bf-4629362db861"
      },
      "execution_count": 3,
      "outputs": [
        {
          "output_type": "stream",
          "name": "stdout",
          "text": [
            "Mean height 161.25\n",
            "Standard deviation 6.179603547154137\n"
          ]
        }
      ]
    },
    {
      "cell_type": "code",
      "source": [
        "#3. Dataset: Weekly expenses (in $): 200, 250, 300, 220, 270, 290, 310\n",
        "#Questions: a) Calculate the standard deviation of the weekly expenses.\n",
        "\n",
        "expense=[200, 250, 300, 220, 270, 290, 310]\n",
        "print(\"Standard deviation\", standard_deviation(expense))"
      ],
      "metadata": {
        "colab": {
          "base_uri": "https://localhost:8080/"
        },
        "id": "Bwg0oI2-nzxv",
        "outputId": "8c4459c7-4818-4682-f051-6270847067a9"
      },
      "execution_count": 4,
      "outputs": [
        {
          "output_type": "stream",
          "name": "stdout",
          "text": [
            "Standard deviation 38.438925848782034\n"
          ]
        }
      ]
    },
    {
      "cell_type": "code",
      "source": [
        "#4. Dataset: Advertising Spending (in $1000s): 10, 20, 15, 25, 30; Sales (in $1000s): 100, 150, 120, 180, 200\n",
        "#Questions: a) Calculate the covariance between advertising spending and sales.\n",
        "#b) Correlation\n",
        "\n",
        "def covariance (l, k):\n",
        "\n",
        "  mean1 = mean(l)\n",
        "  mean2 = mean(k)\n",
        "  std1 = standard_deviation(l)\n",
        "  std2 = standard_deviation(k)\n",
        "  o = 0\n",
        "\n",
        "  for i in range(len(l)):\n",
        "\n",
        "    for j in range(len(k)):\n",
        "      if i == j:\n",
        "        p = (l[i] - mean1)\n",
        "        q = (k[j] - mean2)\n",
        "        o = o + p*q\n",
        "\n",
        "  cov = o/len(k)\n",
        "\n",
        "  return cov\n",
        "\n",
        "def correlation(l, k):\n",
        "\n",
        "  mean1 = mean(l)\n",
        "  mean2 = mean(k)\n",
        "  std1 = standard_deviation(l)\n",
        "  std2 = standard_deviation(k)\n",
        "  o = 0\n",
        "\n",
        "  for i in range(len(l)):\n",
        "\n",
        "    for j in range(len(k)):\n",
        "      if i == j:\n",
        "        p = (l[i] - mean1)\n",
        "        q = (k[j] - mean2)\n",
        "        o = o + p*q\n",
        "\n",
        "  cov = o/len(k)\n",
        "\n",
        "  return cov/(std1*std2)\n",
        "spending=[10, 20, 15, 25, 30]\n",
        "sales=[100, 150, 120, 180, 200]\n",
        "print('Covariance', covariance(spending, sales))\n",
        "print('Correlation', correlation(spending, sales))"
      ],
      "metadata": {
        "colab": {
          "base_uri": "https://localhost:8080/"
        },
        "id": "OjmIHSsYoFOS",
        "outputId": "db944422-66de-46c0-f7fc-c9ea55d7f4c8"
      },
      "execution_count": 5,
      "outputs": [
        {
          "output_type": "stream",
          "name": "stdout",
          "text": [
            "Covariance 260.0\n",
            "Correlation 0.9970544855015816\n"
          ]
        }
      ]
    },
    {
      "cell_type": "code",
      "source": [
        "#Dataset: Study Hours: 2, 4, 6, 8, 10; Exam Scores: 55, 60, 65, 70, 75\n",
        "#Questions: a) Calculate the correlation coefficient between study hours and examscores.\n",
        "#b) Interpret the result.\n",
        "#c) Quartiles and IQR\n",
        "import statistics as stats\n",
        "study_hours=[2, 4, 6, 8, 10]\n",
        "exam_score=[55, 60, 65, 70, 75]\n",
        "print('Correlation', correlation(study_hours, exam_score))\n",
        "quartiles= stats.quantiles(study_hours, n=4)\n",
        "print(\"b) 0.999999 is very close to +1, hence there is very strong positive correlation between the two variables.\")\n",
        "\n",
        "print(\"Quartiles Q1, Q2, Q3 of study hours are \", stats.quantiles(study_hours, n=4))\n",
        "print(\"Quartiles Q1, Q2, Q3 of exam score are \", stats.quantiles(exam_score, n=4))\n",
        "print(\"IQR of study hours \",stats.quantiles(study_hours, n=4)[2] - stats.quantiles(study_hours, n=4)[0])\n",
        "print(\"IQR of study hours \",stats.quantiles(exam_score, n=4)[2] - stats.quantiles(exam_score, n=4)[0])"
      ],
      "metadata": {
        "colab": {
          "base_uri": "https://localhost:8080/"
        },
        "id": "CVXNIb9_ocMn",
        "outputId": "3a4a231f-0c79-41f4-ed10-3c2f55d200a0"
      },
      "execution_count": 6,
      "outputs": [
        {
          "output_type": "stream",
          "name": "stdout",
          "text": [
            "Correlation 0.9999999999999998\n",
            "b) 0.999999 is very close to +1, hence there is very strong positive correlation between the two variables.\n",
            "Quartiles Q1, Q2, Q3 of study hours are  [3.0, 6.0, 9.0]\n",
            "Quartiles Q1, Q2, Q3 of exam score are  [57.5, 65.0, 72.5]\n",
            "IQR of study hours  6.0\n",
            "IQR of study hours  15.0\n"
          ]
        }
      ]
    },
    {
      "cell_type": "code",
      "source": [
        "#6. Dataset: Monthly savings (in $): 200, 300, 400, 500, 600, 700, 800, 900, 1000,1100\n",
        "#Questions: a) Calculate the first quartile (Q1) and third quartile (Q3).\n",
        "#b) Calculate the interquartile range (IQR).\n",
        "#c) Detecting Outliers\n",
        "\n",
        "import statistics as stats\n",
        "\n",
        "savings=[200, 300, 400, 500, 600, 700, 800, 900, 1000,1100]\n",
        "IQR=stats.quantiles(savings, n=4)[2] - stats.quantiles(savings, n=4)[0]\n",
        "print(\"Quartiles Q1, Q2, Q3 of savings are \", stats.quantiles(savings, n=4))\n",
        "print(\"IQR of savings \",IQR)\n",
        "lower_whisker = stats.quantiles(savings, n=4)[0] - IQR * 1.5\n",
        "upper_whisker = stats.quantiles(savings, n=4)[2] + IQR * 1.5\n",
        "k=[]\n",
        "for i in savings:\n",
        "    if upper_whisker < i or lower_whisker > i:\n",
        "      k.append(i)\n",
        "print(\"Outlier\",k)"
      ],
      "metadata": {
        "colab": {
          "base_uri": "https://localhost:8080/"
        },
        "id": "YduoL6yLxTmi",
        "outputId": "438568a2-1456-4b3f-882c-7721b3467b78"
      },
      "execution_count": 7,
      "outputs": [
        {
          "output_type": "stream",
          "name": "stdout",
          "text": [
            "Quartiles Q1, Q2, Q3 of savings are  [375.0, 650.0, 925.0]\n",
            "IQR of savings  550.0\n",
            "Outlier []\n"
          ]
        }
      ]
    },
    {
      "cell_type": "code",
      "source": [
        "#Dataset: Ages of employees: 22, 25, 28, 30, 35, 40, 45, 50, 55, 100\n",
        "#Questions: a) Identify any outliers using the IQR method.\n",
        "\n",
        "def outlier(l):\n",
        "\n",
        "  l.sort()\n",
        "  k = []\n",
        "  Q1 = l[(len(l) * 25 // 100) - 1]\n",
        "  Q3 = l[(len(l) * 75 // 100) - 1]\n",
        "  IQR = Q3 - Q1\n",
        "  lower_whisker = Q1 - IQR * 1.5\n",
        "  upper_whisker = Q3 + IQR * 1.5\n",
        "\n",
        "  for i in l:\n",
        "    if upper_whisker < i or lower_whisker > i:\n",
        "      k.append(i)\n",
        "\n",
        "  return k\n",
        "print(\"Outlier\",outlier([22, 25, 28, 30, 35, 40, 45, 50, 55, 100]))\n"
      ],
      "metadata": {
        "colab": {
          "base_uri": "https://localhost:8080/"
        },
        "id": "RmdciOE2xck-",
        "outputId": "86cfb6ad-b607-4fa7-b908-730fe08c46c9"
      },
      "execution_count": 8,
      "outputs": [
        {
          "output_type": "stream",
          "name": "stdout",
          "text": [
            "Outlier [100]\n"
          ]
        }
      ]
    },
    {
      "cell_type": "code",
      "source": [],
      "metadata": {
        "id": "3pVopvAU0akN"
      },
      "execution_count": 8,
      "outputs": []
    },
    {
      "cell_type": "code",
      "source": [
        "#Dataset: Observed frequencies of customer preferences for three products:\n",
        "#Product A: 50, 55, 60\n",
        "#Product B: 30, 25, 35\n",
        "#Product C: 20, 20, 25\n",
        "#Questions: a) Perform a chi-square test to determine if there is a significant difference in customer preferences among the three products.\n",
        "#b) Hypothesis Testing\n",
        "l=[[50, 55, 60],\n",
        "   [30, 25, 35],\n",
        "   [20, 20, 25]]\n",
        "a=0\n",
        "c=0\n",
        "row_sum=[]\n",
        "for i in l:\n",
        "  for j in i:\n",
        "    c=c+j\n",
        "print(c)\n",
        "for i in l:\n",
        "  for j in i:\n",
        "    a=a+j\n",
        "  row_sum.append(a)\n",
        "  a=0\n",
        "print(row_sum)\n",
        "s=0\n",
        "col_sums=[]\n",
        "for col in range(len(l[0])):   # loop over columns\n",
        "    s = 0\n",
        "    for row in range(len(l)):  # loop over rows\n",
        "        s= s + l[row][col]\n",
        "    col_sums.append(s)\n",
        "\n",
        "print(\"Column sums:\", col_sums)\n",
        "p=[]\n",
        "for i in row_sum:\n",
        "  E=[]\n",
        "  for j in col_sums:\n",
        "    e=i*j/c\n",
        "    E.append(e)\n",
        "  p.append(E)\n",
        "print(p)\n",
        "chi_sq=0\n",
        "for i in range (len(l)):\n",
        "  for j in range (len(p)):\n",
        "    o=l[i][j]\n",
        "    e=p[i][j]\n",
        "    chi=(o-e)**2/e\n",
        "    chi_sq=chi_sq+chi\n",
        "print(\"Chi square:\",chi_sq)\n",
        "print(\"Degree of freedom\",(len(row_sum)-1)*(len(col_sums)-1))\n",
        "critical_value=9.488 #from chi-square table df=4 and alpha=0.05\n",
        "if chi_sq>critical_value:\n",
        "  print(\"Reject H0 (No difference)\")\n",
        "else:\n",
        "  print(\"Accept H0\")"
      ],
      "metadata": {
        "colab": {
          "base_uri": "https://localhost:8080/"
        },
        "id": "gsnPByfa0pcP",
        "outputId": "494cf3dd-ec63-47b3-c1cc-9d3bf607559a"
      },
      "execution_count": 16,
      "outputs": [
        {
          "output_type": "stream",
          "name": "stdout",
          "text": [
            "320\n",
            "[165, 90, 65]\n",
            "Column sums: [100, 100, 120]\n",
            "[[51.5625, 51.5625, 61.875], [28.125, 28.125, 33.75], [20.3125, 20.3125, 24.375]]\n",
            "Chi square: 0.8774928774928774\n",
            "Degree of freedom 4\n",
            "Accept H0\n"
          ]
        }
      ]
    },
    {
      "cell_type": "code",
      "source": [
        "#9. Dataset: Sample weights (in kg) of a new diet program: 70, 68, 72, 71, 69, 73,72, 74, 70, 71\n",
        "#Questions: a) Test the hypothesis that the mean weight after thediet program is equal to 70 kg at a 5% significance level.\n",
        "#b) Z-Scores\n",
        "from scipy.stats import norm\n",
        "weight=[70, 68, 72, 71, 69, 73,72, 74, 70, 71]\n",
        "weight.sort()\n",
        "\n",
        "def Z_score(l):\n",
        "\n",
        "  w = 0\n",
        "  a = 0\n",
        "  p = list()\n",
        "  mean1 = mean(l)\n",
        "\n",
        "  standard_dev1 = standard_deviation(l)\n",
        "\n",
        "  for i in l:\n",
        "\n",
        "    a=(i-mean1)/standard_dev1\n",
        "    p.append(a)\n",
        "\n",
        "  return p\n",
        "print(\"Z-score\", Z_score(weight))\n",
        "\n",
        "m = mean(weight)\n",
        "sd = standard_deviation(weight)\n",
        "n = len(weight)\n",
        "mu0 = 70\n",
        "z = (m - mu0) / (sd / (n**0.5))\n",
        "\n",
        "print(\"Sample mean:\", m)\n",
        "print(\"Sample std dev:\", sd)\n",
        "print(\"Z statistic:\", z)\n",
        "\n",
        "# Decision\n",
        "if abs(z) > 1.96:  # critical value at 5% two-tailed\n",
        "    print(\"Reject H0: significant difference\")\n",
        "else:\n",
        "    print(\"Fail to reject H0: no significant difference\")"
      ],
      "metadata": {
        "colab": {
          "base_uri": "https://localhost:8080/"
        },
        "id": "w4Ab1BLt5YcW",
        "outputId": "0613ff15-79c8-41c9-9e3d-c57871aa8546"
      },
      "execution_count": 10,
      "outputs": [
        {
          "output_type": "stream",
          "name": "stdout",
          "text": [
            "Z-score [-1.7320508075688774, -1.1547005383792517, -0.5773502691896258, -0.5773502691896258, 0.0, 0.0, 0.5773502691896258, 0.5773502691896258, 1.1547005383792517, 1.7320508075688774]\n",
            "Sample mean: 71.0\n",
            "Sample std dev: 1.7320508075688772\n",
            "Z statistic: 1.8257418583505538\n",
            "Fail to reject H0: no significant difference\n"
          ]
        }
      ]
    },
    {
      "cell_type": "code",
      "source": [
        "#10. Dataset: Annual salaries of employees (in $1000s): 40, 42, 45, 47, 50, 52, 55,57, 60, 62 Questions: a) Calculate the z-scores for each salary.\n",
        "#b) Interpret the z-scores.\n",
        "#c) Normal Distribution\n",
        "import math\n",
        "salaries=[40, 42, 45, 47, 50, 52, 55,57, 60, 62]\n",
        "print(\"Z-score\", Z_score(salaries))"
      ],
      "metadata": {
        "colab": {
          "base_uri": "https://localhost:8080/"
        },
        "id": "ZwBfFG3ZMmDi",
        "outputId": "08b91788-0fcf-4fe8-f143-44e377b8fc1f"
      },
      "execution_count": 14,
      "outputs": [
        {
          "output_type": "stream",
          "name": "stdout",
          "text": [
            "Z-score [-1.5403080924308108, -1.2602520756252087, -0.8401680504168059, -0.5601120336112039, -0.14002800840280097, 0.14002800840280097, 0.5601120336112039, 0.8401680504168059, 1.2602520756252087, 1.5403080924308108]\n"
          ]
        }
      ]
    },
    {
      "cell_type": "code",
      "source": [
        "#11. . Dataset: Scores of students in a standardized test: 85, 87, 90, 92, 95, 97, 100, 102, 105, 107\n",
        "#b) Fit a normal distribution to the data and calculate the mean and standard deviation.\n",
        "scores=[85, 87, 90, 92, 95, 97, 100, 102, 105, 107]\n",
        "print('Mean',mean(scores))\n",
        "print('Standard devation',standard_deviation(scores))"
      ],
      "metadata": {
        "colab": {
          "base_uri": "https://localhost:8080/"
        },
        "id": "vhT4utFbLw6p",
        "outputId": "f7d3d168-79c4-4fb8-e9ba-4989e5fc7b0f"
      },
      "execution_count": 15,
      "outputs": [
        {
          "output_type": "stream",
          "name": "stdout",
          "text": [
            "Mean 96.0\n",
            "Standard devation 7.14142842854285\n"
          ]
        }
      ]
    },
    {
      "cell_type": "code",
      "source": [
        "#12. Dataset: Sample data of a new drug's effect on blood pressure reduction (inmmHg): 10, 12, 14, 15, 13, 16, 18, 17, 19, 20\n",
        "#Questions: a) Perform a t-test to determine if the new drug has a significant effecton blood pressure reduction.\n",
        "#b) Report the p-value and interpret the results.\n",
        "#c)Confidence Intervals\n",
        "\n",
        "from scipy import stats\n",
        "\n",
        "bpr=[10, 12, 14, 15, 13, 16, 18, 17, 19, 20]\n",
        "mean_bpr=mean(bpr)\n",
        "a=0\n",
        "n=len(bpr)\n",
        "for i in bpr:\n",
        "  w=(i-mean_bpr)**2\n",
        "  a=a+w\n",
        "s=(a/(n-1))**(1/2)\n",
        "mu0=0 #We take our null hypothesis (H0) as the new drug has no effect ie mu(population mean)=0\n",
        "t=(mean_bpr-mu0)/(s/(n**(1/2)))\n",
        "print('t-value', t)\n",
        "df=n-1\n",
        "critical_value=1.833 # critical value at alpha=0.05 and degree of freedom=9\n",
        "if t>critical_value:\n",
        "  print(\"Reject H0\")\n",
        "else:\n",
        "  print(\"Accept H0\")\n",
        "\n",
        "p_one_tailed = 1 - stats.t.cdf(t, df)\n",
        "print('p-value',p_one_tailed)\n",
        "print('The p-value is far below alpha=0.05 There is very strong evidence that the drug reduces blood pressure')\n",
        "\n",
        "alpha = 0.05\n",
        "critical_value_95=stats.t.ppf(1 - alpha/2, df=n-1)\n",
        "cl1=mean_bpr+critical_value_95*(s/(n**(1/2)))\n",
        "cl2=mean_bpr-critical_value_95*(s/(n**(1/2)))\n",
        "print(\"confidence Intervals\", cl2, cl1)"
      ],
      "metadata": {
        "colab": {
          "base_uri": "https://localhost:8080/"
        },
        "id": "s9vQuH4CRSfy",
        "outputId": "5c483450-7e4b-4db6-f8cb-b3b7bdb5e13d"
      },
      "execution_count": 29,
      "outputs": [
        {
          "output_type": "stream",
          "name": "stdout",
          "text": [
            "t-value 15.198684153570667\n",
            "Reject H0\n",
            "p-value 5.03109613969599e-08\n",
            "The p-value is far below alpha=0.05 There is very strong evidence that the drug reduces blood pressure\n",
            "confidence Intervals 13.107879185069535 17.692120814930465\n"
          ]
        }
      ]
    },
    {
      "cell_type": "code",
      "source": [
        "#13. Dataset: Monthly income of individuals (in $1000s): 3.5, 4.0, 4.2, 4.5, 4.7, 5.0,5.3, 5.5, 5.7, 6.0\n",
        "#Questions: a) Calculate the 95% confidence interval for the mean monthly income.\n",
        "import scipy.stats as stats\n",
        "\n",
        "B = [3.5, 4.0, 4.2, 4.5, 4.7, 5.0,5.3, 5.5, 5.7, 6.0 ]\n",
        "m = mean(B)\n",
        "sd = standard_deviation(B)\n",
        "n = len(B)\n",
        "alpha = 0.05\n",
        "t_critical = stats.t.ppf(1 - alpha/2, df=n-1)\n",
        "margin_of_error = t_critical * (sd/ (n**0.5))\n",
        "lower_bound = m - margin_of_error\n",
        "upper_bound = m + margin_of_error\n",
        "\n",
        "print(f\"Sample Mean = {m:.2f}\")\n",
        "print(f\"95% Confidence Interval = ({lower_bound:.2f}, {upper_bound:.2f})\")"
      ],
      "metadata": {
        "colab": {
          "base_uri": "https://localhost:8080/"
        },
        "id": "9mhxJlY0Oy3t",
        "outputId": "6df47219-9925-4c55-92ba-db5d707473d2"
      },
      "execution_count": 12,
      "outputs": [
        {
          "output_type": "stream",
          "name": "stdout",
          "text": [
            "Sample Mean = 4.84\n",
            "95% Confidence Interval = (4.30, 5.38)\n"
          ]
        }
      ]
    }
  ]
}